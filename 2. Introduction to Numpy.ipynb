{
 "cells": [
  {
   "cell_type": "markdown",
   "id": "9c07ca52",
   "metadata": {},
   "source": [
    "# Numpy"
   ]
  },
  {
   "cell_type": "code",
   "execution_count": 1,
   "id": "c5ad7b02",
   "metadata": {},
   "outputs": [
    {
     "data": {
      "text/plain": [
       "array([ 1,  2,  3,  4,  5,  6,  7,  8,  9, 10])"
      ]
     },
     "execution_count": 1,
     "metadata": {},
     "output_type": "execute_result"
    }
   ],
   "source": [
    "import numpy as np\n",
    "A = [1,2,3,4,5,6,7,8,9,10]\n",
    "\n",
    "np.array(A)"
   ]
  },
  {
   "cell_type": "code",
   "execution_count": 2,
   "id": "3574a239",
   "metadata": {},
   "outputs": [
    {
     "data": {
      "text/plain": [
       "array([[ 4,  5,  6],\n",
       "       [ 7,  8,  9],\n",
       "       [10, 11, 12]])"
      ]
     },
     "execution_count": 2,
     "metadata": {},
     "output_type": "execute_result"
    }
   ],
   "source": [
    "B = [[4,5,6],[7,8,9],[10,11,12]]\n",
    "\n",
    "np.array(B)"
   ]
  },
  {
   "cell_type": "code",
   "execution_count": 3,
   "id": "ba2c328b",
   "metadata": {},
   "outputs": [
    {
     "data": {
      "text/plain": [
       "array([ 0,  5, 10, 15, 20, 25, 30, 35])"
      ]
     },
     "execution_count": 3,
     "metadata": {},
     "output_type": "execute_result"
    }
   ],
   "source": [
    "np.arange(0,40,5)"
   ]
  },
  {
   "cell_type": "markdown",
   "id": "3c7d1bd4",
   "metadata": {},
   "source": [
    "### Zero Matrices"
   ]
  },
  {
   "cell_type": "code",
   "execution_count": 4,
   "id": "bbbe40e3",
   "metadata": {},
   "outputs": [
    {
     "data": {
      "text/plain": [
       "array([[0., 0., 0., 0., 0.],\n",
       "       [0., 0., 0., 0., 0.],\n",
       "       [0., 0., 0., 0., 0.],\n",
       "       [0., 0., 0., 0., 0.],\n",
       "       [0., 0., 0., 0., 0.]])"
      ]
     },
     "execution_count": 4,
     "metadata": {},
     "output_type": "execute_result"
    }
   ],
   "source": [
    "np.zeros((5,5))"
   ]
  },
  {
   "cell_type": "markdown",
   "id": "6b9bbc6e",
   "metadata": {},
   "source": [
    "### Ones Matrices"
   ]
  },
  {
   "cell_type": "code",
   "execution_count": 5,
   "id": "7eedb38e",
   "metadata": {},
   "outputs": [
    {
     "data": {
      "text/plain": [
       "array([1., 1., 1., 1., 1.])"
      ]
     },
     "execution_count": 5,
     "metadata": {},
     "output_type": "execute_result"
    }
   ],
   "source": [
    "np.ones(5)"
   ]
  },
  {
   "cell_type": "code",
   "execution_count": 6,
   "id": "130631cf",
   "metadata": {},
   "outputs": [
    {
     "data": {
      "text/plain": [
       "array([[1., 1., 1., 1., 1.],\n",
       "       [1., 1., 1., 1., 1.],\n",
       "       [1., 1., 1., 1., 1.],\n",
       "       [1., 1., 1., 1., 1.],\n",
       "       [1., 1., 1., 1., 1.]])"
      ]
     },
     "execution_count": 6,
     "metadata": {},
     "output_type": "execute_result"
    }
   ],
   "source": [
    "np.ones((5,5))"
   ]
  },
  {
   "cell_type": "markdown",
   "id": "49ce818b",
   "metadata": {},
   "source": [
    "### Identity Matrices"
   ]
  },
  {
   "cell_type": "code",
   "execution_count": 7,
   "id": "add47989",
   "metadata": {},
   "outputs": [
    {
     "data": {
      "text/plain": [
       "array([[1., 0., 0., 0., 0., 0., 0., 0., 0., 0.],\n",
       "       [0., 1., 0., 0., 0., 0., 0., 0., 0., 0.],\n",
       "       [0., 0., 1., 0., 0., 0., 0., 0., 0., 0.],\n",
       "       [0., 0., 0., 1., 0., 0., 0., 0., 0., 0.],\n",
       "       [0., 0., 0., 0., 1., 0., 0., 0., 0., 0.],\n",
       "       [0., 0., 0., 0., 0., 1., 0., 0., 0., 0.],\n",
       "       [0., 0., 0., 0., 0., 0., 1., 0., 0., 0.],\n",
       "       [0., 0., 0., 0., 0., 0., 0., 1., 0., 0.],\n",
       "       [0., 0., 0., 0., 0., 0., 0., 0., 1., 0.],\n",
       "       [0., 0., 0., 0., 0., 0., 0., 0., 0., 1.]])"
      ]
     },
     "execution_count": 7,
     "metadata": {},
     "output_type": "execute_result"
    }
   ],
   "source": [
    "np.eye(10)"
   ]
  },
  {
   "cell_type": "markdown",
   "id": "349d0955",
   "metadata": {},
   "source": [
    "### .linspace() "
   ]
  },
  {
   "cell_type": "code",
   "execution_count": 8,
   "id": "f301053b",
   "metadata": {},
   "outputs": [
    {
     "data": {
      "text/plain": [
       "array([ 0.        ,  2.22222222,  4.44444444,  6.66666667,  8.88888889,\n",
       "       11.11111111, 13.33333333, 15.55555556, 17.77777778, 20.        ])"
      ]
     },
     "execution_count": 8,
     "metadata": {},
     "output_type": "execute_result"
    }
   ],
   "source": [
    "np.linspace(0,20,10) # Ten (10) linearly spaced elements, starting from 0 till 20"
   ]
  },
  {
   "cell_type": "markdown",
   "id": "d2472e9b",
   "metadata": {},
   "source": [
    "# Random number generation"
   ]
  },
  {
   "cell_type": "code",
   "execution_count": 9,
   "id": "b68ebf8c",
   "metadata": {},
   "outputs": [
    {
     "data": {
      "text/plain": [
       "array([0.54340494, 0.27836939, 0.42451759, 0.84477613, 0.00471886])"
      ]
     },
     "execution_count": 9,
     "metadata": {},
     "output_type": "execute_result"
    }
   ],
   "source": [
    "seed = 100\n",
    "np.random.seed(seed)\n",
    "np.random.rand(5)"
   ]
  },
  {
   "cell_type": "code",
   "execution_count": 10,
   "id": "22ebb312",
   "metadata": {},
   "outputs": [
    {
     "data": {
      "text/plain": [
       "array([[0.54340494, 0.27836939, 0.42451759, 0.84477613, 0.00471886],\n",
       "       [0.12156912, 0.67074908, 0.82585276, 0.13670659, 0.57509333],\n",
       "       [0.89132195, 0.20920212, 0.18532822, 0.10837689, 0.21969749],\n",
       "       [0.97862378, 0.81168315, 0.17194101, 0.81622475, 0.27407375],\n",
       "       [0.43170418, 0.94002982, 0.81764938, 0.33611195, 0.17541045]])"
      ]
     },
     "execution_count": 10,
     "metadata": {},
     "output_type": "execute_result"
    }
   ],
   "source": [
    "seed=100\n",
    "np.random.seed(seed)\n",
    "np.random.rand(5,5) # generate random values for 5 rows and 5 colums matrix "
   ]
  },
  {
   "cell_type": "code",
   "execution_count": 11,
   "id": "8b7a1dde",
   "metadata": {},
   "outputs": [
    {
     "data": {
      "text/plain": [
       "array([-1.74976547,  0.3426804 ,  1.1530358 , -0.25243604,  0.98132079])"
      ]
     },
     "execution_count": 11,
     "metadata": {},
     "output_type": "execute_result"
    }
   ],
   "source": [
    "seed=100\n",
    "np.random.seed(seed)\n",
    "np.random.randn(5)"
   ]
  },
  {
   "cell_type": "code",
   "execution_count": 12,
   "id": "8b2076b1",
   "metadata": {},
   "outputs": [
    {
     "data": {
      "text/plain": [
       "array([[-1.74976547,  0.3426804 ,  1.1530358 , -0.25243604,  0.98132079],\n",
       "       [ 0.51421884,  0.22117967, -1.07004333, -0.18949583,  0.25500144],\n",
       "       [-0.45802699,  0.43516349, -0.58359505,  0.81684707,  0.67272081],\n",
       "       [-0.10441114, -0.53128038,  1.02973269, -0.43813562, -1.11831825],\n",
       "       [ 1.61898166,  1.54160517, -0.25187914, -0.84243574,  0.18451869]])"
      ]
     },
     "execution_count": 12,
     "metadata": {},
     "output_type": "execute_result"
    }
   ],
   "source": [
    "seed=100\n",
    "np.random.seed(seed)\n",
    "np.random.randn(5,5) # generate random normal distribution values for 5 rows and 5 colums matrix "
   ]
  },
  {
   "cell_type": "code",
   "execution_count": 13,
   "id": "29d2331d",
   "metadata": {},
   "outputs": [
    {
     "data": {
      "text/plain": [
       "array([ 14, 107,  31,  18,  54,  69, 435, 489, 348, 476])"
      ]
     },
     "execution_count": 13,
     "metadata": {},
     "output_type": "execute_result"
    }
   ],
   "source": [
    "np.random.randint(1,500,10) # generate ten (10) random integers from number 1 to 500"
   ]
  },
  {
   "cell_type": "code",
   "execution_count": 14,
   "id": "046c870e",
   "metadata": {},
   "outputs": [
    {
     "data": {
      "text/plain": [
       "array([[20, 21],\n",
       "       [22, 23],\n",
       "       [24, 25],\n",
       "       [26, 27],\n",
       "       [28, 29]])"
      ]
     },
     "execution_count": 14,
     "metadata": {},
     "output_type": "execute_result"
    }
   ],
   "source": [
    "A = np.arange(20,30) # generate an array of numbers, starting with 20 till 29 (input number 30 is excluded)\n",
    "\n",
    "A.reshape(5,2) "
   ]
  },
  {
   "cell_type": "markdown",
   "id": "1c47fa1f",
   "metadata": {},
   "source": [
    "# Numpy indexing and selection"
   ]
  },
  {
   "cell_type": "code",
   "execution_count": 15,
   "id": "6edfd221",
   "metadata": {},
   "outputs": [
    {
     "data": {
      "text/plain": [
       "array([30, 31, 32, 33, 34, 35, 36, 37, 38, 39, 40])"
      ]
     },
     "execution_count": 15,
     "metadata": {},
     "output_type": "execute_result"
    }
   ],
   "source": [
    "X = np.arange(30,41)\n",
    "\n",
    "X"
   ]
  },
  {
   "cell_type": "code",
   "execution_count": 16,
   "id": "ba5b901d",
   "metadata": {},
   "outputs": [
    {
     "data": {
      "text/plain": [
       "array([30, 31, 32, 33, 34, 35, 36])"
      ]
     },
     "execution_count": 16,
     "metadata": {},
     "output_type": "execute_result"
    }
   ],
   "source": [
    "X[0:7]"
   ]
  },
  {
   "cell_type": "code",
   "execution_count": 17,
   "id": "f1b0c272",
   "metadata": {},
   "outputs": [
    {
     "data": {
      "text/plain": [
       "array([30, 31, 32, 33, 34, 35, 36, 37, 38, 39, 40])"
      ]
     },
     "execution_count": 17,
     "metadata": {},
     "output_type": "execute_result"
    }
   ],
   "source": [
    "X[:]"
   ]
  },
  {
   "cell_type": "code",
   "execution_count": 18,
   "id": "f68b50c2",
   "metadata": {},
   "outputs": [
    {
     "data": {
      "text/plain": [
       "array([32, 33, 34, 35, 36, 37, 38, 39, 40])"
      ]
     },
     "execution_count": 18,
     "metadata": {},
     "output_type": "execute_result"
    }
   ],
   "source": [
    "X[2:]"
   ]
  },
  {
   "cell_type": "code",
   "execution_count": 19,
   "id": "531562a3",
   "metadata": {},
   "outputs": [
    {
     "data": {
      "text/plain": [
       "array([60, 62, 64, 66, 68, 70, 72, 74, 76, 78, 80])"
      ]
     },
     "execution_count": 19,
     "metadata": {},
     "output_type": "execute_result"
    }
   ],
   "source": [
    "Y = X.copy()*2 # .copy() is basically a method to copy the variable of attached variable\n",
    "\n",
    "Y"
   ]
  },
  {
   "cell_type": "code",
   "execution_count": 20,
   "id": "f195fb0f",
   "metadata": {},
   "outputs": [
    {
     "data": {
      "text/plain": [
       "array([1000, 1000, 1000, 1000, 1000,   70,   72,   74,   76,   78,   80])"
      ]
     },
     "execution_count": 20,
     "metadata": {},
     "output_type": "execute_result"
    }
   ],
   "source": [
    "Y[0:5] = 1000\n",
    "\n",
    "Y"
   ]
  },
  {
   "cell_type": "code",
   "execution_count": 21,
   "id": "0ab3daea",
   "metadata": {},
   "outputs": [
    {
     "data": {
      "text/plain": [
       "array([[50, 52, 54],\n",
       "       [56, 58, 60],\n",
       "       [62, 64, 66],\n",
       "       [68, 70, 72]])"
      ]
     },
     "execution_count": 21,
     "metadata": {},
     "output_type": "execute_result"
    }
   ],
   "source": [
    "array_2d = np.array([[50,52,54],[56,58,60],[62,64,66],[68,70,72]]) # double [] indicates the dimensions of the array\n",
    "\n",
    "array_2d"
   ]
  },
  {
   "cell_type": "code",
   "execution_count": 22,
   "id": "4fdee6dd",
   "metadata": {},
   "outputs": [
    {
     "data": {
      "text/plain": [
       "64"
      ]
     },
     "execution_count": 22,
     "metadata": {},
     "output_type": "execute_result"
    }
   ],
   "source": [
    "array_2d[2,1]"
   ]
  },
  {
   "cell_type": "code",
   "execution_count": 23,
   "id": "7cc5c65d",
   "metadata": {},
   "outputs": [
    {
     "data": {
      "text/plain": [
       "array([[64, 66],\n",
       "       [70, 72]])"
      ]
     },
     "execution_count": 23,
     "metadata": {},
     "output_type": "execute_result"
    }
   ],
   "source": [
    "array_2d[2:,1:]"
   ]
  },
  {
   "cell_type": "code",
   "execution_count": 24,
   "id": "7b75dcd7",
   "metadata": {},
   "outputs": [
    {
     "data": {
      "text/plain": [
       "array([68, 70])"
      ]
     },
     "execution_count": 24,
     "metadata": {},
     "output_type": "execute_result"
    }
   ],
   "source": [
    "array_2d[3,0:2]"
   ]
  }
 ],
 "metadata": {
  "kernelspec": {
   "display_name": "Python 3 (ipykernel)",
   "language": "python",
   "name": "python3"
  },
  "language_info": {
   "codemirror_mode": {
    "name": "ipython",
    "version": 3
   },
   "file_extension": ".py",
   "mimetype": "text/x-python",
   "name": "python",
   "nbconvert_exporter": "python",
   "pygments_lexer": "ipython3",
   "version": "3.11.3"
  }
 },
 "nbformat": 4,
 "nbformat_minor": 5
}
